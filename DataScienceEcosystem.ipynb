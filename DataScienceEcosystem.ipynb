{
  "metadata": {
    "kernelspec": {
      "name": "python",
      "display_name": "Python (Pyodide)",
      "language": "python"
    },
    "language_info": {
      "codemirror_mode": {
        "name": "python",
        "version": 3
      },
      "file_extension": ".py",
      "mimetype": "text/x-python",
      "name": "python",
      "nbconvert_exporter": "python",
      "pygments_lexer": "ipython3",
      "version": "3.8"
    }
  },
  "nbformat_minor": 5,
  "nbformat": 4,
  "cells": [
    {
      "id": "2d87bd78-9786-4249-aa5c-062c9aa62d46",
      "cell_type": "markdown",
      "source": "# Data Science Tools and Ecosystem",
      "metadata": {}
    },
    {
      "id": "96d9047a-b60c-448d-bccf-d65d067d6467",
      "cell_type": "markdown",
      "source": "In this notebook, Data Science Tools and Ecosystem are summarized.",
      "metadata": {}
    },
    {
      "id": "549ed7ac-5e8c-4a7e-a8b5-b85c79f69c06",
      "cell_type": "markdown",
      "source": "Some of the popular languages that Data Scientists use are:  \n1. Python  \n2. R  \n3. SQL  \n4. Julia  \n5. Scala",
      "metadata": {}
    },
    {
      "id": "e8faa683-01ac-4170-a0b3-5cd0d75e39e9",
      "cell_type": "markdown",
      "source": "Some of the commonly used libraries used by Data Scientists include:  \n1. NumPy  \n2. Pandas  \n3. Scikit-learn  \n4. TensorFlow  \n5. Matplotlib  ",
      "metadata": {}
    },
    {
      "id": "71d8b900-2c55-4a39-9163-5735bb403a23",
      "cell_type": "markdown",
      "source": "| Data Science Tools |  \n|--------------------|  \n| Jupyter Notebook    |  \n| RStudio             |  \n| Visual Studio Code  |  ",
      "metadata": {}
    },
    {
      "id": "0c3f35d5-947a-4317-881e-4b15868af91c",
      "cell_type": "markdown",
      "source": "### Below are a few examples of evaluating arithmetic expressions in Python",
      "metadata": {}
    },
    {
      "id": "5c9b27a4-35d7-428a-84ee-0fd92e97b2ff",
      "cell_type": "markdown",
      "source": "This a simple arithmetic expression to mutiply then add integers",
      "metadata": {}
    },
    {
      "id": "9ef75d27-f485-46bc-a0d2-42ef4772ee42",
      "cell_type": "code",
      "source": "(3*4)+5",
      "metadata": {
        "trusted": true
      },
      "outputs": [
        {
          "execution_count": 2,
          "output_type": "execute_result",
          "data": {
            "text/plain": "17"
          },
          "metadata": {}
        }
      ],
      "execution_count": 2
    },
    {
      "id": "60170161-1b52-4226-ae07-b22fb4d5bbe6",
      "cell_type": "markdown",
      "source": "This will convert 200 minutes to hours by diving by 60",
      "metadata": {}
    },
    {
      "id": "7aee8abe-b1f6-4c57-89b0-da132de6246a",
      "cell_type": "code",
      "source": "200 / 60",
      "metadata": {
        "trusted": true
      },
      "outputs": [
        {
          "execution_count": 3,
          "output_type": "execute_result",
          "data": {
            "text/plain": "3.3333333333333335"
          },
          "metadata": {}
        }
      ],
      "execution_count": 3
    },
    {
      "id": "bda492c6-81c7-46f0-93f8-098483c3c2c6",
      "cell_type": "markdown",
      "source": "**Objectives:**  \n- List popular languages for Data Science  \n- Describe commonly used libraries  \n- Provide examples of arithmetic operations ",
      "metadata": {}
    },
    {
      "id": "8c5f0707-8bec-46ea-ab0c-1f4be4e80d7b",
      "cell_type": "markdown",
      "source": "## Author  \nHugo Ponti ",
      "metadata": {}
    },
    {
      "id": "b3fe041e-1003-48f3-bdd4-6e292fff8b01",
      "cell_type": "code",
      "source": "",
      "metadata": {
        "trusted": true
      },
      "outputs": [],
      "execution_count": null
    }
  ]
}